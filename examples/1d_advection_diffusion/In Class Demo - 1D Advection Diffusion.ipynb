{
 "cells": [
  {
   "cell_type": "code",
   "execution_count": null,
   "metadata": {},
   "outputs": [],
   "source": [
    "import numpy as np\n",
    "import matplotlib.pyplot as plt"
   ]
  },
  {
   "cell_type": "code",
   "execution_count": null,
   "metadata": {},
   "outputs": [],
   "source": [
    "mu = 1e-2\n",
    "\n",
    "xl, xr = 0, 1\n",
    "Nx = 50\n",
    "dx = (xr-xl)/Nx\n",
    "\n",
    "e = np.ones(Nx)\n",
    "D = np.diag(-e[:-1], -1) + np.diag(e[:-1], 1)\n",
    "D[0,-1] = -1\n",
    "D[-1,0] = 1\n",
    "D /= (2*dx)\n",
    "\n",
    "L = np.diag(e[:-1], -1) + np.diag(e[:-1], 1) - 2*np.diag(e,0)\n",
    "L[0,-1] = 1\n",
    "L[-1,0] = 1\n",
    "L /= dx**2\n",
    "\n",
    "A = -D + mu*L\n",
    "\n",
    "#evals = np.linalg.eigvals(A)\n",
    "#plt.plot(np.real(evals), np.imag(evals), '.')"
   ]
  },
  {
   "cell_type": "markdown",
   "metadata": {},
   "source": [
    "# Forward Euler"
   ]
  },
  {
   "cell_type": "code",
   "execution_count": null,
   "metadata": {},
   "outputs": [],
   "source": [
    "x = xl + np.arange(Nx)*dx\n",
    "\n",
    "u0 = np.exp(-(10*(x-0.5))**4)\n",
    "plt.plot(x, u0)\n",
    "\n",
    "tf = 1\n",
    "Nt = 100\n",
    "dt = tf/Nt\n",
    "\n",
    "u = np.zeros((Nt+1, Nx))\n",
    "u[0,:] = u0\n",
    "\n",
    "for it in range(Nt):\n",
    "    u[it+1,:] = u[it,:] + dt*A.dot(u[it,:])\n",
    "    \n",
    "plt.plot(x, u[-1,:])"
   ]
  },
  {
   "cell_type": "markdown",
   "metadata": {},
   "source": [
    "## RK2"
   ]
  },
  {
   "cell_type": "code",
   "execution_count": null,
   "metadata": {},
   "outputs": [],
   "source": [
    "x = xl + np.arange(Nx)*dx\n",
    "\n",
    "u0 = np.exp(-(10*(x-0.5))**4)\n",
    "plt.plot(x, u0)\n",
    "\n",
    "u = np.zeros((Nt+1, Nx))\n",
    "u[0,:] = u0\n",
    "\n",
    "for it in range(Nt):\n",
    "    k1 = dt*A.dot(u[it,:])\n",
    "    k2 = dt*A.dot(u[it,:]+k1)\n",
    "    u[it+1,:] = u[it,:] + (k1+k2)/2\n",
    "    \n",
    "plt.plot(x, u[-1,:])"
   ]
  },
  {
   "cell_type": "code",
   "execution_count": null,
   "metadata": {},
   "outputs": [],
   "source": []
  }
 ],
 "metadata": {
  "kernelspec": {
   "display_name": "Python 3",
   "language": "python",
   "name": "python3"
  },
  "language_info": {
   "codemirror_mode": {
    "name": "ipython",
    "version": 3
   },
   "file_extension": ".py",
   "mimetype": "text/x-python",
   "name": "python",
   "nbconvert_exporter": "python",
   "pygments_lexer": "ipython3",
   "version": "3.7.3"
  }
 },
 "nbformat": 4,
 "nbformat_minor": 2
}
