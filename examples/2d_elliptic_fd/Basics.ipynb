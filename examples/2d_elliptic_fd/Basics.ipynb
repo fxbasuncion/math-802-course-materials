{
 "cells": [
  {
   "cell_type": "markdown",
   "metadata": {},
   "source": [
    "# 2D Elliptic equations"
   ]
  },
  {
   "cell_type": "code",
   "execution_count": null,
   "metadata": {},
   "outputs": [],
   "source": [
    "import numpy as np\n",
    "import scipy.sparse as sp\n",
    "import scipy.sparse.linalg as sla\n",
    "import matplotlib.pyplot as plt"
   ]
  },
  {
   "cell_type": "markdown",
   "metadata": {},
   "source": [
    "## Demo of array <-> vector"
   ]
  },
  {
   "cell_type": "code",
   "execution_count": null,
   "metadata": {},
   "outputs": [],
   "source": [
    "A = np.array( [[1, 2, 3], [4, 5, 6]])\n",
    "print(A)\n",
    "print()\n",
    "B = A.flatten()\n",
    "print(B)\n",
    "print()\n",
    "print(B.reshape(2,3))"
   ]
  },
  {
   "cell_type": "markdown",
   "metadata": {},
   "source": [
    "## An elliptic solver"
   ]
  },
  {
   "cell_type": "code",
   "execution_count": null,
   "metadata": {},
   "outputs": [],
   "source": [
    "# solution coefficients\n",
    "sol_a = 2.8\n",
    "sol_b = -1.1\n",
    "sol_c = 1.8\n",
    "sol_d = 2.2\n",
    "\n",
    "def sol(x, y):\n",
    "    \"True solution\"\n",
    "    return np.sin(sol_a*x + sol_b)*np.cos(sol_c*y + sol_d)\n",
    "\n",
    "def f(x, y):\n",
    "    \"Right-hand side function\"\n",
    "    return -(sol_a**2 + sol_c**2)*sol(x, y)\n",
    "\n",
    "# grid coefficients\n",
    "x_l, x_u = -1.8, 2.3\n",
    "y_l, y_u = 0.3, 4.8\n",
    "n_x, n_y = 101, 103\n",
    "\n",
    "# grid spacing\n",
    "dx = (x_u-x_l)/(n_x-1)\n",
    "dy = (y_u-y_l)/(n_y-1)\n",
    "\n",
    "# 1D grids\n",
    "x = np.linspace(x_l, x_u, n_x)\n",
    "y = np.linspace(y_l, y_u, n_y)\n",
    "\n",
    "# 2D grids\n",
    "X, Y = np.meshgrid(x, y)\n",
    "\n",
    "print(X)\n",
    "print()\n",
    "print(Y)"
   ]
  },
  {
   "cell_type": "code",
   "execution_count": null,
   "metadata": {},
   "outputs": [],
   "source": [
    "plt.figure(figsize=(5,5))\n",
    "plt.contour(x, y, sol(X, Y));"
   ]
  },
  {
   "cell_type": "code",
   "execution_count": null,
   "metadata": {},
   "outputs": [],
   "source": [
    "# number of unknowns\n",
    "n_unk = n_x*n_y\n",
    "\n",
    "# initialize right-hand side\n",
    "b = np.zeros(n_unk)\n",
    "\n",
    "# set up the Poisson system\n",
    "I, J, data = [], [], []\n",
    "\n",
    "# \"lazy way\" do do the loop\n",
    "for i in range(n_y):\n",
    "    yi = y[i]\n",
    "    for j in range(n_x):\n",
    "        xj = x[j]\n",
    "        \n",
    "        k = i*n_x + j\n",
    "        \n",
    "        # check if this is a boundary point\n",
    "        if i == 0 or i == n_y-1 or j == 0 or j == n_x-1:\n",
    "            I.append(k)\n",
    "            J.append(k)\n",
    "            data.append(1)\n",
    "            b[k] = sol(xj, yi)\n",
    "        else:\n",
    "            I.extend([k, k, k, k, k])\n",
    "            J.extend([k-n_x, k-1, k, k+1, k+n_x])\n",
    "            data.extend([1/dy**2, 1/dx**2, -2/dx**2 -2/dy**2, 1/dx**2, 1/dy**2])\n",
    "            b[k] = f(xj, yi)\n",
    "            \n",
    "# build the sparse matrix\n",
    "A = sp.csr_matrix((data, (I,J)), (n_unk, n_unk))\n",
    "\n",
    "plt.spy(A[:3*n_x,:3*n_x], markersize=1);\n",
    "#plt.spy(A, markersize=1);"
   ]
  },
  {
   "cell_type": "code",
   "execution_count": null,
   "metadata": {},
   "outputs": [],
   "source": [
    "u = sla.spsolve(A, b)\n",
    "\n",
    "plt.figure(figsize=(5,5))\n",
    "plt.contour(x, y, u.reshape(n_y, n_x));"
   ]
  },
  {
   "cell_type": "code",
   "execution_count": null,
   "metadata": {},
   "outputs": [],
   "source": [
    "plt.figure(figsize=(6,5))\n",
    "plt.contour(x, y, u.reshape(n_y, n_x)-sol(X,Y))\n",
    "plt.colorbar()\n",
    "print(np.max(np.abs(u.reshape(n_y, n_x)-sol(X,Y))))"
   ]
  },
  {
   "cell_type": "code",
   "execution_count": null,
   "metadata": {},
   "outputs": [],
   "source": []
  }
 ],
 "metadata": {
  "kernelspec": {
   "display_name": "Python 3",
   "language": "python",
   "name": "python3"
  },
  "language_info": {
   "codemirror_mode": {
    "name": "ipython",
    "version": 3
   },
   "file_extension": ".py",
   "mimetype": "text/x-python",
   "name": "python",
   "nbconvert_exporter": "python",
   "pygments_lexer": "ipython3",
   "version": "3.7.1"
  }
 },
 "nbformat": 4,
 "nbformat_minor": 2
}
