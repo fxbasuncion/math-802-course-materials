{
 "cells": [
  {
   "cell_type": "markdown",
   "metadata": {},
   "source": [
    "# Von Neumann Stability Examples"
   ]
  },
  {
   "cell_type": "code",
   "execution_count": null,
   "metadata": {},
   "outputs": [],
   "source": [
    "import numpy as np\n",
    "import matplotlib.pyplot as plt\n",
    "import scipy.sparse as sp\n",
    "import scipy.sparse.linalg as sla\n",
    "import fd_tools as fd"
   ]
  },
  {
   "cell_type": "markdown",
   "metadata": {},
   "source": [
    "## Introduction\n",
    "\n",
    "This notebook demonstrates von Neumann stability analysis for the 1D advection equation\n",
    "\n",
    "\\begin{gather*}\n",
    "u_t + au_x = 0,\\; (a>0)\\\\\n",
    "u(x,0) = u_0(x)\\\\\n",
    "u(0,t) = g(t)\n",
    "\\end{gather*}\n",
    "\n",
    "using a few different time-stepping schemes.  The spatial derivative is approximated by the finite difference scheme\n",
    "\n",
    "$$\n",
    "D_\\tau = \\tau D_- + (1-\\tau) D_+\n",
    "$$\n",
    "\n",
    "where $\\tau\\in[0,1]$ is a parameter.\n",
    "\n",
    "For given $k$, $\\Delta x$ and $\\theta=k\\Delta x$, the $D_-$ and $D_+$ operators scale $e^{ikx}$ as\n",
    "$$\n",
    "D_-e^{ikx} = \\frac{e^{ikx}-e^{ik(x-\\Delta x)}}{\\Delta x} = \n",
    "\\frac{1}{\\Delta x}\\left(1-e^{-ik\\Delta x}\\right)e^{ikx} = \\frac{\\lambda_-(\\theta)}{\\Delta x}e^{ikx}\n",
    "$$\n",
    "and\n",
    "$$\n",
    "D_+e^{ikx} = \\frac{e^{ik(x+\\Delta x)}-e^{ikx}}{\\Delta x} = \n",
    "\\frac{1}{\\Delta x}\\left(e^{ik\\Delta x}-1\\right)e^{ikx} = \\frac{\\lambda_+(\\theta)}{\\Delta x}e^{ikx}.\n",
    "$$\n",
    "\n",
    "Thus, $D_\\tau$ scales $e^{ikx}$ as\n",
    "\n",
    "$$\n",
    "D_\\tau e^{ikx} = \\frac{\\tau\\lambda_-(\\theta)+(1-\\tau)\\lambda_+(\\theta)}{\\Delta x}e^{ikx}\n",
    "= \\frac{\\lambda_\\tau(k,\\Delta x)}{\\Delta x}e^{ikx}.\n",
    "$$"
   ]
  },
  {
   "cell_type": "code",
   "execution_count": null,
   "metadata": {},
   "outputs": [],
   "source": [
    "def lambda_minus(theta):\n",
    "    return (1-np.exp(-1j*theta))\n",
    "\n",
    "def lambda_plus(theta):\n",
    "    return (np.exp(1j*theta)-1)\n",
    "\n",
    "            \n",
    "def lambda_tau(tau, theta):\n",
    "    return tau*lambda_minus(theta) + (1-tau)*lambda_plus(theta)"
   ]
  },
  {
   "cell_type": "markdown",
   "metadata": {},
   "source": [
    "## Forward Euler"
   ]
  },
  {
   "cell_type": "markdown",
   "metadata": {},
   "source": [
    "The forward Euler method for this problem takes the form\n",
    "\n",
    "$$\n",
    "U^{j+1} = U^j - a\\Delta t D_\\tau U^j\n",
    "$$\n",
    "\n",
    "Substituting the ansatz $U^j=g^je^{ikx}$ yields\n",
    "$$\n",
    "g^{j+1}e^{ikx} = g^je^{ikx} - \\frac{a\\Delta t}{\\Delta x}\\lambda_\\tau(\\theta)g^je^{ikx}.\n",
    "$$\n",
    "Dividing by $g^je^{ikx}$ simplifies this to\n",
    "$$\n",
    "g = 1 - \\frac{a\\Delta t}{\\Delta x}\\lambda_\\tau(\\theta).\n",
    "$$\n",
    "\n",
    "As we (almost) saw in class, as theta varies, $g$ traces an ellipse in the complex plane."
   ]
  },
  {
   "cell_type": "code",
   "execution_count": null,
   "metadata": {},
   "outputs": [],
   "source": [
    "def fe_vn_demo():\n",
    "    a = 1.8\n",
    "    dx = 0.1\n",
    "    tau = 0.9\n",
    "\n",
    "    dt = (dx/a)*(2*tau-1)\n",
    "\n",
    "    theta = np.linspace(0, 2*np.pi, 1000)\n",
    "\n",
    "    g = 1 - (a*dt/dx)*lambda_tau(tau, theta)\n",
    "\n",
    "    for i in range(2):\n",
    "        plt.figure(figsize=(5,5))\n",
    "        plt.plot(np.real(g), np.imag(g))\n",
    "        plt.plot(np.cos(theta), np.sin(theta), '--')\n",
    "        if i == 0:\n",
    "            plt.axis('equal')\n",
    "            plt.title('dx = {:.3e}, dt = {:.3e}'.format(dx, dt))\n",
    "        else:\n",
    "            plt.xlim([0.99, 1.0])\n",
    "            plt.ylim([-0.15, 0.15])\n",
    "    \n",
    "fe_vn_demo()"
   ]
  },
  {
   "cell_type": "markdown",
   "metadata": {},
   "source": [
    "## Trapezoidal method\n",
    "\n",
    "The trapezoidal method takes the form\n",
    "\n",
    "$$\n",
    "U^{j+1} = U^j - \\frac{a\\Delta t}{2}\\left[D_\\tau U^{j+1} + D_\\tau U^j\\right]\n",
    "$$\n",
    "\n",
    "Substituting the ansatz $U^j=g^je^{ikx}$ yields\n",
    "$$\n",
    "g^{j+1}e^{ikx} = g^je^{ikx} - \\frac{a\\Delta t}{2\\Delta x}\\left[\n",
    "\\lambda_\\tau(\\theta)g^{j+1}e^{ikx} + \\lambda_\\tau(\\theta)g^je^{ikx}\n",
    "\\right].\n",
    "$$\n",
    "Dividing by $g^je^{ikx}$ simplifies this to\n",
    "$$\n",
    "g = 1 - \\frac{a\\Delta t}{2\\Delta x}\\left[\n",
    "\\lambda_\\tau(\\theta)g + \\lambda_\\tau(\\theta)\n",
    "\\right],\n",
    "$$\n",
    "which can be rewritten as\n",
    "$$\n",
    "g = \\frac{1 - \\frac{a\\Delta t}{2\\Delta x}\\lambda_\\tau(\\theta)}\n",
    "{1 + \\frac{a\\Delta t}{2\\Delta x}\\lambda_\\tau(\\theta)}.\n",
    "$$\n",
    "\n",
    "As theta varies, $g$ traces an interesting curve."
   ]
  },
  {
   "cell_type": "code",
   "execution_count": null,
   "metadata": {},
   "outputs": [],
   "source": [
    "def tpz_vn_demo():\n",
    "    a = 1.8\n",
    "    dx, dt = 0.1, 0.3\n",
    "    tau = 0.7\n",
    "\n",
    "    theta = np.linspace(0, 2*np.pi, 10000)\n",
    "\n",
    "    g = (1 - (a*dt)/(2*dx)*lambda_tau(tau, theta))/(1 + (a*dt)/(2*dx)*lambda_tau(tau, theta))\n",
    "\n",
    "    for i in range(2):\n",
    "        plt.figure(figsize=(5,5))\n",
    "        plt.plot(np.real(g), np.imag(g))\n",
    "        plt.plot(np.cos(theta), np.sin(theta), '--')\n",
    "        if i == 0:\n",
    "            plt.axis('equal')\n",
    "            plt.title('dx = {:.3e}, dt = {:.3e}'.format(dx, dt))\n",
    "        else:\n",
    "            plt.xlim([0.99, 1.0])\n",
    "            plt.ylim([-0.15, 0.15])\n",
    "    \n",
    "tpz_vn_demo()"
   ]
  },
  {
   "cell_type": "markdown",
   "metadata": {},
   "source": [
    "## RK2\n",
    "\n",
    "The second-order Runge-Kutta method takes the form\n",
    "\n",
    "\\begin{align*}\n",
    "    k_1 &= -a\\Delta t D_{\\tau} U^j\\\\\n",
    "    k_2 &= -a\\Delta t D_{\\tau}\\left(U^j + \\frac{\\Delta t}{2}k_1\\right)\\\\\n",
    "    U^{j+1} &= U^j + k_2\n",
    "\\end{align*}\n",
    "\n",
    "Substituting the ansatz $U^j=g^je^{ikx}$ yields\n",
    "\\begin{align*}\n",
    "    k_1 &= -\\frac{a\\Delta t}{\\Delta x} \\lambda_\\tau(\\theta)g^je^{ikx}\\\\\n",
    "    k_2 &= -a\\Delta t D_{\\tau}\\left(g^je^{ikx} - \\frac{a\\Delta t^2}{2\\Delta x}\\lambda_\\tau(\\theta)g^je^{ikx}\\right)\n",
    "    = \\left(-\\frac{a\\Delta t}{\\Delta x}\\lambda_\\tau(\\theta) + \\frac{a^2\\Delta t^3}{2\\Delta x^2}\\lambda_\\tau(\\theta)^2\\right)g^je^{ikx}\\\\\n",
    "    g^{j+1}e^{ikx} &= \\left(1-\\frac{a\\Delta t}{\\Delta x}\\lambda_\\tau(\\theta) + \\frac{a^2\\Delta t^3}{2\\Delta x^2}\\lambda_\\tau(\\theta)^2\\right)g^je^{ikx}\n",
    "\\end{align*}\n",
    "Dividing by $g^je^{ikx}$ simplifies this to\n",
    "$$\n",
    "g = 1-\\frac{a\\Delta t}{\\Delta x}\\lambda_\\tau(\\theta) + \\frac{a^2\\Delta t^3}{2\\Delta x^2}\\lambda_\\tau(\\theta)^2.\n",
    "$$"
   ]
  },
  {
   "cell_type": "code",
   "execution_count": null,
   "metadata": {},
   "outputs": [],
   "source": [
    "def rk2_vn_demo():\n",
    "    a = 1.8\n",
    "    dx, dt = 0.1, 0.02\n",
    "    tau = 0.7\n",
    "\n",
    "    theta = np.linspace(0, 2*np.pi, 10000)\n",
    "\n",
    "    g = 1 - (a*dt/dx)*lambda_tau(tau, theta) + (a**2*dt**3)/(2*dx**2)*lambda_tau(tau, theta)**2\n",
    "\n",
    "    for i in range(2):\n",
    "        plt.figure(figsize=(5,5))\n",
    "        plt.plot(np.real(g), np.imag(g))\n",
    "        plt.plot(np.cos(theta), np.sin(theta), '--')\n",
    "        if i == 0:\n",
    "            plt.axis('equal')\n",
    "            plt.title('dx = {:.3e}, dt = {:.3e}'.format(dx, dt))\n",
    "        else:\n",
    "            plt.xlim([0.99, 1.0])\n",
    "            plt.ylim([-0.15, 0.15])\n",
    "\n",
    "rk2_vn_demo()"
   ]
  }
 ],
 "metadata": {
  "kernelspec": {
   "display_name": "Python 3",
   "language": "python",
   "name": "python3"
  },
  "language_info": {
   "codemirror_mode": {
    "name": "ipython",
    "version": 3
   },
   "file_extension": ".py",
   "mimetype": "text/x-python",
   "name": "python",
   "nbconvert_exporter": "python",
   "pygments_lexer": "ipython3",
   "version": "3.7.3"
  }
 },
 "nbformat": 4,
 "nbformat_minor": 2
}
