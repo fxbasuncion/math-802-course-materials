{
 "cells": [
  {
   "cell_type": "markdown",
   "metadata": {},
   "source": [
    "# Polynomial interpolation"
   ]
  },
  {
   "cell_type": "code",
   "execution_count": null,
   "metadata": {},
   "outputs": [],
   "source": [
    "import numpy as np\n",
    "import matplotlib.pyplot as plt\n",
    "from scipy.interpolate import barycentric_interpolate"
   ]
  },
  {
   "cell_type": "code",
   "execution_count": null,
   "metadata": {},
   "outputs": [],
   "source": [
    "def f(x):\n",
    "    \"The function we want to interpolate.\"\n",
    "    return 1/(1+25*x**2)"
   ]
  },
  {
   "cell_type": "markdown",
   "metadata": {},
   "source": [
    "## Lagrange interpolation basis"
   ]
  },
  {
   "cell_type": "code",
   "execution_count": null,
   "metadata": {},
   "outputs": [],
   "source": [
    "# number of grid points\n",
    "n = 30\n",
    "\n",
    "# equally spaced points\n",
    "x = np.linspace(-1, 1, n)\n",
    "\n",
    "# the fine grid for plotting\n",
    "x_f = np.linspace(-1, 1, 1000)\n",
    "\n",
    "# draw one of the polynomials\n",
    "plt.figure()\n",
    "y = np.zeros(n)\n",
    "y[int(n/2)] = 1\n",
    "plt.plot([-1, 1], [0, 0], '--', color='grey')\n",
    "plt.plot(x_f, barycentric_interpolate(x, y, x_f))\n",
    "plt.plot(x, y, 'o')\n",
    "\n",
    "# draw the interpolating polynomials\n",
    "plt.figure()\n",
    "p_basis = []\n",
    "for i in range(n):\n",
    "    y = np.zeros(n)\n",
    "    y[i] = 1\n",
    "    p_basis.append(barycentric_interpolate(x, y, x_f))\n",
    "    plt.plot(x_f, p_basis[-1])"
   ]
  },
  {
   "cell_type": "code",
   "execution_count": null,
   "metadata": {},
   "outputs": [],
   "source": [
    "# use the interpolation formula\n",
    "p = np.zeros(len(x_f))\n",
    "for i in range(n):\n",
    "    p += f(x[i])*p_basis[i]\n",
    "plt.plot( x_f, f(x_f), '--')\n",
    "plt.plot( x_f, p)\n",
    "plt.plot( x, f(x), 'o')"
   ]
  },
  {
   "cell_type": "markdown",
   "metadata": {},
   "source": [
    "## Chebyshev interpolation basis"
   ]
  },
  {
   "cell_type": "code",
   "execution_count": null,
   "metadata": {},
   "outputs": [],
   "source": [
    "# number of grid points\n",
    "n = 50\n",
    "\n",
    "# Chebyshev spaced points\n",
    "z = np.linspace(0, 1, n)\n",
    "x = -1 + (1 - np.cos(np.pi*z))\n",
    "\n",
    "# the fine grid for plotting\n",
    "x_f = np.linspace(-1, 1, 1000)\n",
    "\n",
    "# draw one of the polynomials\n",
    "plt.figure()\n",
    "y = np.zeros(n)\n",
    "y[int(n/2)] = 1\n",
    "plt.plot([-1, 1], [0, 0], '--', color='grey')\n",
    "plt.plot(x_f, barycentric_interpolate(x, y, x_f))\n",
    "plt.plot(x, y, 'o')\n",
    "\n",
    "# draw the interpolating polynomials\n",
    "plt.figure()\n",
    "p_basis = []\n",
    "for i in range(n):\n",
    "    y = np.zeros(n)\n",
    "    y[i] = 1\n",
    "    p_basis.append(barycentric_interpolate(x, y, x_f))\n",
    "    plt.plot(x_f, p_basis[-1])"
   ]
  },
  {
   "cell_type": "code",
   "execution_count": null,
   "metadata": {},
   "outputs": [],
   "source": [
    "# use the interpolation formula\n",
    "p = np.zeros(len(x_f))\n",
    "for i in range(n):\n",
    "    p += f(x[i])*p_basis[i]\n",
    "plt.plot( x_f, f(x_f), '--')\n",
    "plt.plot( x_f, p)\n",
    "plt.plot( x, f(x), 'o')"
   ]
  },
  {
   "cell_type": "code",
   "execution_count": null,
   "metadata": {},
   "outputs": [],
   "source": []
  }
 ],
 "metadata": {
  "kernelspec": {
   "display_name": "Python 3",
   "language": "python",
   "name": "python3"
  },
  "language_info": {
   "codemirror_mode": {
    "name": "ipython",
    "version": 3
   },
   "file_extension": ".py",
   "mimetype": "text/x-python",
   "name": "python",
   "nbconvert_exporter": "python",
   "pygments_lexer": "ipython3",
   "version": "3.7.1"
  }
 },
 "nbformat": 4,
 "nbformat_minor": 2
}
